{
 "cells": [
  {
   "cell_type": "markdown",
   "id": "a023b3ed",
   "metadata": {},
   "source": [
    "# Notebook de présentation de la SAE S01.02"
   ]
  },
  {
   "cell_type": "markdown",
   "id": "47840237",
   "metadata": {},
   "source": [
    "## Binôme \n",
    "\n",
    "* ISMAIL LAKRAFLI "
   ]
  },
  {
   "cell_type": "code",
   "execution_count": 1,
   "id": "e10c4dbf",
   "metadata": {},
   "outputs": [],
   "source": [
    "import biology as b"
   ]
  },
  {
   "cell_type": "markdown",
   "id": "bf84c1e7",
   "metadata": {},
   "source": [
    "# QUESTION 1\n",
    "Définir la fonction est_base prenant en paramètre un caractère et retournant True si ce caractère correspond à une base de l'ADN (est un des caractères A, T, G, C), et False sinon."
   ]
  },
  {
   "cell_type": "code",
   "execution_count": 2,
   "id": "06963828",
   "metadata": {},
   "outputs": [
    {
     "data": {
      "text/plain": [
       "True"
      ]
     },
     "execution_count": 2,
     "metadata": {},
     "output_type": "execute_result"
    }
   ],
   "source": [
    "b. est_base(\"A\")"
   ]
  },
  {
   "cell_type": "markdown",
   "id": "d0b27496",
   "metadata": {},
   "source": [
    "# QUESTION 2\n",
    "Définir la fonction est_adn prenant en paramètre une chaîne de caractères et retournant True si la chaîne correspond à un ADN (est constituée uniquement des caractères A, T, G, C), et False sinon"
   ]
  },
  {
   "cell_type": "code",
   "execution_count": 3,
   "id": "e5ec926f",
   "metadata": {},
   "outputs": [
    {
     "data": {
      "text/plain": [
       "True"
      ]
     },
     "execution_count": 3,
     "metadata": {},
     "output_type": "execute_result"
    }
   ],
   "source": [
    "b.est_adn(\"ATCG\")"
   ]
  },
  {
   "cell_type": "markdown",
   "id": "1d626364",
   "metadata": {},
   "source": [
    "# Question 3\n",
    "Définir la fonction arn prenant en paramètre une séquence d'ADN et retournant la séquence ARN associée."
   ]
  },
  {
   "cell_type": "code",
   "execution_count": 4,
   "id": "f8640430",
   "metadata": {},
   "outputs": [
    {
     "data": {
      "text/plain": [
       "'AUUCG'"
      ]
     },
     "execution_count": 4,
     "metadata": {},
     "output_type": "execute_result"
    }
   ],
   "source": [
    "b.arn(\"ATTCG\")"
   ]
  },
  {
   "cell_type": "markdown",
   "id": "7bc10991",
   "metadata": {},
   "source": [
    "# Question 4\n",
    "Définir la fonction arn_to_codons prenant en paramètre une chaîne de caractères correspondant à de l'ARN et découpant cet ARN en codons. La fonction doit retourner un tableau contenant la liste des codons"
   ]
  },
  {
   "cell_type": "code",
   "execution_count": 5,
   "id": "27baf389",
   "metadata": {},
   "outputs": [
    {
     "data": {
      "text/plain": [
       "['ACC', 'GTT', 'TTA', 'TGC', 'GTA']"
      ]
     },
     "execution_count": 5,
     "metadata": {},
     "output_type": "execute_result"
    }
   ],
   "source": [
    "b.arn_to_codons(\"ACCGTTTTATGCGTAT\")"
   ]
  },
  {
   "cell_type": "markdown",
   "id": "6979713f",
   "metadata": {},
   "source": [
    "# Question 5\n",
    "Définir la fonction load_dico_codons_aa qui prend en paramètre un fichier au format JSON et retourne la structure de données chargée en mémoire à partir du JSON."
   ]
  },
  {
   "cell_type": "code",
   "execution_count": 6,
   "id": "2bae4c73",
   "metadata": {},
   "outputs": [
    {
     "name": "stdout",
     "output_type": "stream",
     "text": [
      "{'UUU': 'Phenylalanine', 'UUC': 'Phenylalanine', 'UUA': 'Leucine', 'UUG': 'Leucine', 'CUU': 'Leucine', 'CUC': 'Leucine', 'CUA': 'Leucine', 'CUG': 'Leucine', 'AUU': 'Isoleucine', 'AUC': 'Isoleucine', 'AUA': 'Methionine', 'AUG': 'Methionine', 'GUU': 'Valine', 'GUC': 'Valine', 'GUA': 'Valine', 'GUG': 'Valine', 'UCU': 'Serine', 'UCC': 'Serine', 'UCA': 'Serine', 'UCG': 'Serine', 'CCU': 'Proline', 'CCC': 'Proline', 'CCA': 'Proline', 'CCG': 'Proline', 'ACU': 'Threonine', 'ACC': 'Threonine', 'ACA': 'Threonine', 'ACG': 'Threonine', 'GCU': 'Alanine', 'GCC': 'Alanine', 'GCA': 'Alanine', 'GCG': 'Alanine', 'UAU': 'Tyrosine', 'UAC': 'Tyrosine', 'CAU': 'Histidine', 'CAC': 'Histidine', 'CAA': 'Glutamine', 'CAG': 'Glutamine', 'AAU': 'Asparagine', 'AAC': 'Asparagine', 'AAA': 'Lysine', 'AAG': 'Lysine', 'GAU': 'Aspartic acid', 'GAC': 'Aspartic acid', 'GAA': 'Glutamic acid', 'GAG': 'Glutamic acid', 'UGU': 'Cysteine', 'UGC': 'Cysteine', 'UGA': 'Tryptophan', 'UGG': 'Tryptophan', 'CGU': 'Arginine', 'CGC': 'Arginine', 'CGA': 'Arginine', 'CGG': 'Arginine', 'AGU': 'Serine', 'AGC': 'Serine', 'GGU': 'Glycine', 'GGC': 'Glycine', 'GGA': 'Glycine', 'GGG': 'Glycine'}\n"
     ]
    }
   ],
   "source": [
    "dico = b.load_dico_codons_aa(r\"C:\\Users\\lakra\\Desktop\\BD\\codons_aa.json\")\n",
    "print(dico)"
   ]
  },
  {
   "cell_type": "markdown",
   "id": "9f8f1b66",
   "metadata": {},
   "source": [
    "# question 5 \n",
    "Définir la fonction codons_stop prenant en paramètre un dictionnaire dont les clés sont les codons et les valeurs les acides aminés correspondants (chaînes de caractères). La fonction retournera un tableau contenant l'ensemble des codons stop"
   ]
  },
  {
   "cell_type": "code",
   "execution_count": 7,
   "id": "c44895f7",
   "metadata": {},
   "outputs": [
    {
     "data": {
      "text/plain": [
       "['AGA', 'AGG', 'UAA', 'UAG']"
      ]
     },
     "execution_count": 7,
     "metadata": {},
     "output_type": "execute_result"
    }
   ],
   "source": [
    "b.codons_stop(dico)"
   ]
  },
  {
   "cell_type": "markdown",
   "id": "d15714c5",
   "metadata": {},
   "source": [
    "# question 6\n",
    "Définir la fonction codons_to_aa prenant en paramètre un tableau de codons (correspondant par exemple à une valeur retournée par la fonction arn_to_codons) et le dictionnaire de correspondance entre codons et acides aminés. La fonction devra retourner un tableau contenant les acides aminés correspondant aux codons."
   ]
  },
  {
   "cell_type": "code",
   "execution_count": 8,
   "id": "c4c1453e",
   "metadata": {},
   "outputs": [
    {
     "data": {
      "text/plain": [
       "1"
      ]
     },
     "execution_count": 8,
     "metadata": {},
     "output_type": "execute_result"
    }
   ],
   "source": [
    "b.nextIndice([ \"bonjour\", \"hello\", \"buongiorno\", \"ciao\"],0,[\"hello\"])"
   ]
  },
  {
   "cell_type": "markdown",
   "id": "bf41fd30",
   "metadata": {},
   "source": [
    "# partie 2 \n",
    "# Question 1 \n",
    "Définir la fonction nextIndice prenant en paramètre un tableau tab, un indice ind de tab, et un deuxième tableau elements. La fonction recherche dans le tableau tab à partir de l'indice ind et retourne l'indice de la première case du tableau tab contenant une valeur de elements"
   ]
  },
  {
   "cell_type": "code",
   "execution_count": 9,
   "id": "4f9dad32",
   "metadata": {},
   "outputs": [
    {
     "data": {
      "text/plain": [
       "1"
      ]
     },
     "execution_count": 9,
     "metadata": {},
     "output_type": "execute_result"
    }
   ],
   "source": [
    "b.nextIndice([ \"bonjour\", \"hello\", \"buongiorno\", \"ciao\"],0,[\"hello\"])"
   ]
  },
  {
   "cell_type": "markdown",
   "id": "49ef1c2b",
   "metadata": {},
   "source": [
    "# question 2 \n",
    "Définir la fonction decoupe_sequence prenant en paramètre trois tableaux seq, start et stop. La fonction doit découper le tableau seq en séquences et retourner un tableau contenant les différents morceaux. Un morceau dans le tableau seq est une partie non vide de seq comprise entre une valeur de start et une valeur de stop. "
   ]
  },
  {
   "cell_type": "code",
   "execution_count": 10,
   "id": "3ec78c69",
   "metadata": {},
   "outputs": [
    {
     "data": {
      "text/plain": [
       "[['val2', 'val3'], ['val5']]"
      ]
     },
     "execution_count": 10,
     "metadata": {},
     "output_type": "execute_result"
    }
   ],
   "source": [
    "seq = [\"val1\", \"début\", \"val2\", \"val3\", \"end\", \"val4\", \"fin\", \"begin\", \"val5\", \"fin\", \"val6\"]\n",
    "start = [\"début\", \"begin\"]\n",
    "stop = [\"fin\", \"end\"]\n",
    "b.decoupe_sequence(seq,start,stop)\n"
   ]
  },
  {
   "cell_type": "markdown",
   "id": "4af0cb6d",
   "metadata": {},
   "source": [
    "# Question 3 \n",
    "Définir la fonction codons_to_seq_codantes qui prend en paramètre une séquence de codons et le dictionnaire de correspondance entre codons et acides aminés, et découpe la séquence de codons en séquences codantes. Les différentes séquences sont stockées dans un tableau . L'apel de la fonction codons_to_seq_codantes avec la séquence  [\"CGU\", \"UUU\", \"AUG\", \"CGU\", \"AUG\", \"AAU\", \"UAA\", \"AUG\", \"GGG\", \"CCC\",  \"CGU\", \"UAG\", \"GGG\"] doit retourner le tableau :"
   ]
  },
  {
   "cell_type": "code",
   "execution_count": 11,
   "id": "a59d1a0e",
   "metadata": {},
   "outputs": [
    {
     "data": {
      "text/plain": [
       "[['CGU', 'AUG', 'AAU'], ['GGG', 'CCC', 'CGU']]"
      ]
     },
     "execution_count": 11,
     "metadata": {},
     "output_type": "execute_result"
    }
   ],
   "source": [
    "seq=[\"CGU\", \"UUU\", \"AUG\", \"CGU\", \"AUG\", \"AAU\", \"UAA\", \"AUG\", \"GGG\", \"CCC\",  \"CGU\", \"UAG\", \"GGG\"]\n",
    "start=[\"AUG\"]\n",
    "stop=['AGA', 'AGG', 'UAA', 'UAG']\n",
    "b.decoupe_sequence(seq,start,stop)"
   ]
  },
  {
   "cell_type": "markdown",
   "id": "070e7bcb",
   "metadata": {},
   "source": [
    "# Question 4\n",
    "Définir la fonction seq_codantes_to_seq_aas prenant en paramètre un tableau de séquences codantes (même type que les valeurs retournées par la fonction précédente)  et le dictionnaire de correspondance entre codons et acides aminés, et retournant un tableau contenant les différentes séquences d'acides aminés codées par les différentes séquences codantes. "
   ]
  },
  {
   "cell_type": "code",
   "execution_count": 12,
   "id": "7e8e075f",
   "metadata": {},
   "outputs": [
    {
     "data": {
      "text/plain": [
       "[['Arginine', 'Methionine', 'Asparagine'], ['Glycine', 'Proline', 'Arginine']]"
      ]
     },
     "execution_count": 12,
     "metadata": {},
     "output_type": "execute_result"
    }
   ],
   "source": [
    "b.seq_codantes_to_seq_aas([['CGU','AUG','AAU'],['GGG','CCC','CGU']],dico)"
   ]
  },
  {
   "cell_type": "markdown",
   "id": "6a8ffbe0",
   "metadata": {},
   "source": [
    "# Question 5\n",
    "Définir la fonction adn_encode_molecule prenant en parmètre un brin d'ADN, le dictionnaire de correspondance entre codons et acides aminés et une molécule (séquence d'acide aminées). La fonction doit retourner True si l'ARN obtenu à partir de l'ADN puis découpé en codons contient une séquence codante correspondant à la molécule, c'est-à-dire si la séquence d'acide aminée correspondant à une séquence codante est la même que la molécule.\n"
   ]
  },
  {
   "cell_type": "code",
   "execution_count": null,
   "id": "b937a508",
   "metadata": {},
   "outputs": [],
   "source": [
    "\n",
    "    def adn_encode_molecule(ADN, dico,mol):\n",
    "    test=b.est_adn(ADN)\n",
    "    if test == True:\n",
    "        arn=b.arn(ADN)\n",
    "        codons =b.arn_to_codons(arn)\n",
    "        cod = b.codons_to_seq_codantes(b.arn_to_codons,dico)\n",
    "        a = b.seq_codantes_to_seq_aas(b.seq_codantes,dico)\n",
    "        \n",
    "        if mol in a:\n",
    "            \n",
    "            return True\n",
    "        \n",
    "        else:\n",
    "            \n",
    "            return False\n",
    "        \n",
    "    else:\n",
    "        return False\n",
    "\n",
    "    \n",
    "adn_encode_molecule(\"CGTTTTATGCGTATGAATTAAATGGGGCCCCGTTAGGGG\",dico,[\"Glycine\", \"Proline\", \"Arginine\"])    \n",
    "    "
   ]
  }
 ],
 "metadata": {
  "kernelspec": {
   "display_name": "Python 3",
   "language": "python",
   "name": "python3"
  },
  "language_info": {
   "codemirror_mode": {
    "name": "ipython",
    "version": 3
   },
   "file_extension": ".py",
   "mimetype": "text/x-python",
   "name": "python",
   "nbconvert_exporter": "python",
   "pygments_lexer": "ipython3",
   "version": "3.8.8"
  }
 },
 "nbformat": 4,
 "nbformat_minor": 5
}
